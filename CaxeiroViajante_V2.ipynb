{
 "cells": [
  {
   "cell_type": "markdown",
   "metadata": {},
   "source": [
    "# Aluno: Ernesto Gurgel Valente Neto\n",
    "### Matricula: 1020157\n",
    "### Turma I.A 2020\n",
    "### Trabalho para nota da V2"
   ]
  },
  {
   "cell_type": "markdown",
   "metadata": {},
   "source": [
    "# Algoritmo Genético: Problema do Caixeiro Viajante\n",
    "\n",
    "### Descrição do Problema\n",
    "O problema do caixeiro viajante (Travelling Salesman Problem – TSP) é de natureza combinatória e é uma referência para diversas aplicações, e.g., projeto de circuitos integrados, roteamento de veículos, programação de produção, robótica, etc. Em sua forma mais simples, no TSP o caixeiro deve visitar cada cidade somente uma vez. Dado o custo da viagem (ou distância) entre cada uma\n",
    "das cidades, o problema do caixeiro é determinar qual o itinerário que possui o menor custo. \n"
   ]
  },
  {
   "cell_type": "markdown",
   "metadata": {},
   "source": [
    "## Objetivo da Atividade.\n",
    "\n",
    "Esta atividade consiste em implementar um algoritmo genético para resolver o problema do caixeiro. As coordenadas das cidades serão passadas em separado pelo professor. "
   ]
  },
  {
   "cell_type": "markdown",
   "metadata": {},
   "source": [
    "## Entrega da Atividade\n",
    "\n",
    "Deve-se enviar para o e-mail do professor da disciplina um arquivo executável, o código fonte e um relatório. O algoritmo genético deve ser implementado de preferência em Java ou Python. O trabalho deve contemplar os seguintes aspectos: \n"
   ]
  },
  {
   "cell_type": "markdown",
   "metadata": {},
   "source": [
    "## Crie um dataset para representar as distancias das cidades\n",
    "\n",
    "Representando latitude/longitude;"
   ]
  },
  {
   "cell_type": "markdown",
   "metadata": {},
   "source": [
    "Código algoritmo genético;"
   ]
  },
  {
   "cell_type": "markdown",
   "metadata": {},
   "source": [
    "Função de avaliação e mecanismo de seleção;"
   ]
  },
  {
   "cell_type": "markdown",
   "metadata": {},
   "source": [
    "Operadores genéticos utilizados;"
   ]
  },
  {
   "cell_type": "markdown",
   "metadata": {},
   "source": [
    "Critérios para escolha de quais indivíduos comporão a nova geração;"
   ]
  },
  {
   "cell_type": "markdown",
   "metadata": {},
   "source": [
    "Critério de parada;"
   ]
  },
  {
   "cell_type": "markdown",
   "metadata": {},
   "source": [
    "Listagem do código-fonte, com bom detalhamento das classes e funções;"
   ]
  },
  {
   "cell_type": "markdown",
   "metadata": {},
   "source": [
    "Análise paramétrica do tamanho da população e das taxas de crossover e mutação;"
   ]
  },
  {
   "cell_type": "markdown",
   "metadata": {},
   "source": [
    "É interessante a utilização de gráficos para acompanhar a evolução do melhor fitness e do fitness médio da população; "
   ]
  },
  {
   "cell_type": "markdown",
   "metadata": {},
   "source": [
    "## Considerações\n",
    "\n",
    "Deve-se calcular a distância Euclidiana entre uma cidade e todas as demais As três representações mais utilizadas para o Problema do Caixeiro Viajante são: adjacency, ordinal e path. Pesquise sobre elas. Na implementação da atividade sugere-se a representação path, mas isto não impede que vocês implementem as outras duas. "
   ]
  },
  {
   "cell_type": "markdown",
   "metadata": {},
   "source": [
    "################################################################################################################################"
   ]
  },
  {
   "cell_type": "markdown",
   "metadata": {},
   "source": [
    "# Trabalho"
   ]
  },
  {
   "cell_type": "code",
   "execution_count": 1,
   "metadata": {},
   "outputs": [],
   "source": [
    "# Importando biblio\n",
    "# Importando bibliotecas\n",
    "import numpy as np\n",
    "import pandas as pd\n",
    "import seaborn as sns\n",
    "import matplotlib.pyplot as plt\n",
    "%matplotlib inline\n",
    "from pandas import DataFrame\n",
    "from datetime import datetime\n",
    "import warnings\n",
    "warnings.filterwarnings(\"ignore\")"
   ]
  },
  {
   "cell_type": "markdown",
   "metadata": {},
   "source": [
    "## Carregamento e tratamento"
   ]
  },
  {
   "cell_type": "code",
   "execution_count": 2,
   "metadata": {},
   "outputs": [],
   "source": [
    "# Importanto o dataSet\n",
    "df = pd.read_csv('C:/Users/Ernesto/Downloads/Trabalho_I.A_V2_Ernesto/Caxeiro_viajante/datasets/dataset_15_cidades.csv')"
   ]
  },
  {
   "cell_type": "code",
   "execution_count": 3,
   "metadata": {},
   "outputs": [
    {
     "data": {
      "text/html": [
       "<div>\n",
       "<style scoped>\n",
       "    .dataframe tbody tr th:only-of-type {\n",
       "        vertical-align: middle;\n",
       "    }\n",
       "\n",
       "    .dataframe tbody tr th {\n",
       "        vertical-align: top;\n",
       "    }\n",
       "\n",
       "    .dataframe thead th {\n",
       "        text-align: right;\n",
       "    }\n",
       "</style>\n",
       "<table border=\"1\" class=\"dataframe\">\n",
       "  <thead>\n",
       "    <tr style=\"text-align: right;\">\n",
       "      <th></th>\n",
       "      <th>X</th>\n",
       "      <th>Y</th>\n",
       "    </tr>\n",
       "  </thead>\n",
       "  <tbody>\n",
       "    <tr>\n",
       "      <th>0</th>\n",
       "      <td>1</td>\n",
       "      <td>5</td>\n",
       "    </tr>\n",
       "    <tr>\n",
       "      <th>1</th>\n",
       "      <td>4</td>\n",
       "      <td>6</td>\n",
       "    </tr>\n",
       "    <tr>\n",
       "      <th>2</th>\n",
       "      <td>7</td>\n",
       "      <td>5</td>\n",
       "    </tr>\n",
       "    <tr>\n",
       "      <th>3</th>\n",
       "      <td>5</td>\n",
       "      <td>4</td>\n",
       "    </tr>\n",
       "    <tr>\n",
       "      <th>4</th>\n",
       "      <td>9</td>\n",
       "      <td>4</td>\n",
       "    </tr>\n",
       "  </tbody>\n",
       "</table>\n",
       "</div>"
      ],
      "text/plain": [
       "   X  Y\n",
       "0  1  5\n",
       "1  4  6\n",
       "2  7  5\n",
       "3  5  4\n",
       "4  9  4"
      ]
     },
     "execution_count": 3,
     "metadata": {},
     "output_type": "execute_result"
    }
   ],
   "source": [
    "df.head()"
   ]
  },
  {
   "cell_type": "code",
   "execution_count": 4,
   "metadata": {},
   "outputs": [
    {
     "name": "stdout",
     "output_type": "stream",
     "text": [
      "               X          Y\n",
      "count  15.000000  15.000000\n",
      "mean    4.866667   3.333333\n",
      "std     2.531704   2.497618\n",
      "min     1.000000   0.000000\n",
      "25%     3.500000   1.500000\n",
      "50%     5.000000   3.000000\n",
      "75%     6.500000   5.000000\n",
      "max     9.000000   8.000000\n"
     ]
    }
   ],
   "source": [
    "print(df.describe())"
   ]
  },
  {
   "cell_type": "code",
   "execution_count": 5,
   "metadata": {},
   "outputs": [],
   "source": [
    "df.dropna(inplace=True)"
   ]
  },
  {
   "cell_type": "code",
   "execution_count": 6,
   "metadata": {},
   "outputs": [
    {
     "data": {
      "text/plain": [
       "False"
      ]
     },
     "execution_count": 6,
     "metadata": {},
     "output_type": "execute_result"
    }
   ],
   "source": [
    "df.isnull().values.any()"
   ]
  },
  {
   "cell_type": "code",
   "execution_count": 7,
   "metadata": {},
   "outputs": [
    {
     "data": {
      "text/html": [
       "<div>\n",
       "<style scoped>\n",
       "    .dataframe tbody tr th:only-of-type {\n",
       "        vertical-align: middle;\n",
       "    }\n",
       "\n",
       "    .dataframe tbody tr th {\n",
       "        vertical-align: top;\n",
       "    }\n",
       "\n",
       "    .dataframe thead th {\n",
       "        text-align: right;\n",
       "    }\n",
       "</style>\n",
       "<table border=\"1\" class=\"dataframe\">\n",
       "  <thead>\n",
       "    <tr style=\"text-align: right;\">\n",
       "      <th></th>\n",
       "      <th>X</th>\n",
       "      <th>Y</th>\n",
       "    </tr>\n",
       "  </thead>\n",
       "  <tbody>\n",
       "    <tr>\n",
       "      <th>X</th>\n",
       "      <td>1.000000</td>\n",
       "      <td>-0.037654</td>\n",
       "    </tr>\n",
       "    <tr>\n",
       "      <th>Y</th>\n",
       "      <td>-0.037654</td>\n",
       "      <td>1.000000</td>\n",
       "    </tr>\n",
       "  </tbody>\n",
       "</table>\n",
       "</div>"
      ],
      "text/plain": [
       "          X         Y\n",
       "X  1.000000 -0.037654\n",
       "Y -0.037654  1.000000"
      ]
     },
     "execution_count": 7,
     "metadata": {},
     "output_type": "execute_result"
    }
   ],
   "source": [
    "df.corr()"
   ]
  },
  {
   "cell_type": "markdown",
   "metadata": {},
   "source": [
    "# Com base no algoritmo definido anteriormente podemos criar o código a seguir:\n",
    "Inicialmente as bibliotecas que serão utilizadas devem ser importadas e as coordenadas dos pontos definidas (neste caso aleatoriamente)."
   ]
  },
  {
   "cell_type": "code",
   "execution_count": 8,
   "metadata": {},
   "outputs": [],
   "source": [
    "import numpy as np\n",
    "import math as m \n",
    "import matplotlib.pyplot as plt\n",
    "#coordenadas dos locais em que o veículo deverá passar"
   ]
  },
  {
   "cell_type": "code",
   "execution_count": 9,
   "metadata": {},
   "outputs": [],
   "source": [
    "x = [1,4,7,5,9,2,4,6,1,5,3,9,4,6,7]\n",
    "y = [5,6,5,4,4,3,2,2,1,1,3,9,8,7,2]\n",
    "n = len(x) #numero de pontos em que o veículo deverá passar"
   ]
  },
  {
   "cell_type": "code",
   "execution_count": 10,
   "metadata": {},
   "outputs": [
    {
     "data": {
      "text/plain": [
       "15"
      ]
     },
     "execution_count": 10,
     "metadata": {},
     "output_type": "execute_result"
    }
   ],
   "source": [
    "n"
   ]
  },
  {
   "cell_type": "markdown",
   "metadata": {},
   "source": [
    "# Em seguida são calculadas as distâncias conforme o passo 2."
   ]
  },
  {
   "cell_type": "code",
   "execution_count": 11,
   "metadata": {},
   "outputs": [],
   "source": [
    " # reservando memória para a distancia de um ponto a todos os outros\n",
    "distOriginal = np.zeros((n,n))"
   ]
  },
  {
   "cell_type": "code",
   "execution_count": 12,
   "metadata": {},
   "outputs": [],
   "source": [
    "# criando uma matrix identidade com valor alto, para que o vizinho mais próximo não seja o proprio ponto\n",
    "a = 1000*np.identity(n,int)"
   ]
  },
  {
   "cell_type": "code",
   "execution_count": 13,
   "metadata": {},
   "outputs": [],
   "source": [
    "#calculo da distância euclidiana de um ponto a todos os outros pontos\n",
    "        #neste cenário estamos considerando a distância euclidiana, porém poderiamos dar pesos as distâncias que representariam a distância ao \n",
    "        #percorrida por uma estrada utilizada.\n",
    "for i in range(0,n):\n",
    "    for j in range(0,n):\n",
    "        distOriginal[i,j] = a[i,j]+m.sqrt((x[i]-x[j])**2+(y[i]-y[j])**2)\n",
    " # resernvado memória para a rota que será utilizada        \n",
    "rota = np.zeros((n,n))\n",
    "# reservando memória para a distância percorrida\n",
    "distTotal = np.zeros((1,n)) "
   ]
  },
  {
   "cell_type": "markdown",
   "metadata": {},
   "source": [
    "# Como temos um circuito fechado não irá importar qual o ponto de partida, portanto com o objetivo de selecionar a melhor rota dentre todas vamos tunar nosso algoritmo criando uma matriz de rotas, desta forma é possível calcular todas elas para todos os pontos de partida e definir qual a rota mais curta."
   ]
  },
  {
   "cell_type": "code",
   "execution_count": 14,
   "metadata": {},
   "outputs": [],
   "source": [
    "for i in range(0,n):\n",
    "    dist = distOriginal \n",
    "    distAtual = dist[i,0:n] #distâncias do ponto x\n",
    "    rota[i,0] = i #ponto xda rota\n",
    "    minDist = min(distAtual) #ponto mais próximo do ponto\n",
    "    pos = distAtual.tolist().index(minDist) #numero do ponto mais próximo\n",
    "    rota[i,1] = pos #segundo ponto da rota\n",
    "    distTotal[0,i] = distTotal[0,i] + minDist #distancia percorrida\n",
    "    dist[0:n,i] = 1000 #atribuindo valor grande para ponto já utilizado, para que não volte a ser utilizado"
   ]
  },
  {
   "cell_type": "markdown",
   "metadata": {},
   "source": [
    "# Seleção dos próximos pontos conforme o passo 3.\n"
   ]
  },
  {
   "cell_type": "code",
   "execution_count": 15,
   "metadata": {},
   "outputs": [],
   "source": [
    "count = 2    #processo para seleção dos próximos pontos seguinte a lógica anterior\n",
    "while (count < n):\n",
    "    aux = pos\n",
    "    distAtual = dist[aux,0:n]\n",
    "    minDist = min(distAtual)\n",
    "    pos = distAtual.tolist().index(minDist)\n",
    "    rota[i,count] = pos\n",
    "    distTotal[0,i] = distTotal[0,i]+minDist\n",
    "    dist[0:n,aux] = 1000\n",
    "    count = count+1     \n",
    "else:\n",
    "    distTotal[0,i] = distTotal[0,i]+distOriginal[i,int(rota[i,-1])] #distancia do ultimo ponto de volta ao primeiro"
   ]
  },
  {
   "cell_type": "markdown",
   "metadata": {},
   "source": [
    "# Seleção da melhor rota.\n"
   ]
  },
  {
   "cell_type": "code",
   "execution_count": 16,
   "metadata": {},
   "outputs": [],
   "source": [
    "#seleção do melhor ponto de partida\n",
    "minDistTotal = min(distTotal[0,0:n]) \n",
    "posInicialTotal = distTotal[0,0:n].tolist().index(minDistTotal) \n",
    "#plot para melhor rota\n",
    "melhorRota = rota[posInicialTotal,0:n]\n",
    "xMelhor = np.zeros((1,n+1))\n",
    "yMelhor = np.zeros((1,n+1))"
   ]
  },
  {
   "cell_type": "markdown",
   "metadata": {},
   "source": [
    "# Plotagem da melhor rota."
   ]
  },
  {
   "cell_type": "code",
   "execution_count": 17,
   "metadata": {},
   "outputs": [
    {
     "data": {
      "image/png": "[encoded data removed]",
      "text/plain": [
       "<Figure size 432x288 with 1 Axes>"
      ]
     },
     "metadata": {},
     "output_type": "display_data"
    }
   ],
   "source": [
    "for i in range(0,n):\n",
    "    xMelhor[0,i] = x[int(melhorRota[i])]\n",
    "    yMelhor[0,i] = y[int(melhorRota[i])]\n",
    "xMelhor[0,n] = xMelhor[0,0]\n",
    "yMelhor[0,n] = yMelhor[0,0]\n",
    "x2 = xMelhor[0,0:n+1]\n",
    "y2 = yMelhor[0,0:n+1]       \n",
    "plt.plot(x,y, 'ro')\n",
    "plt.axis([-1, 11, 0, 11])\n",
    "plt.plot(x2,y2,'b-')\n",
    "plt.show()"
   ]
  },
  {
   "cell_type": "code",
   "execution_count": 18,
   "metadata": {},
   "outputs": [],
   "source": [
    "# Região transmitir os valores do X e Y como acesso facilitado a estrutura de dados\n",
    "import math"
   ]
  },
  {
   "cell_type": "code",
   "execution_count": 19,
   "metadata": {},
   "outputs": [],
   "source": [
    "x = [1,4,7,5,9,2,4,6,1,5,3,9,4,6,7]\n",
    "y = [5,6,5,4,4,3,2,2,1,1,3,9,8,7,2]\n",
    "n = len(x)"
   ]
  },
  {
   "cell_type": "code",
   "execution_count": 20,
   "metadata": {},
   "outputs": [
    {
     "data": {
      "text/plain": [
       "15"
      ]
     },
     "execution_count": 20,
     "metadata": {},
     "output_type": "execute_result"
    }
   ],
   "source": [
    "n"
   ]
  },
  {
   "cell_type": "code",
   "execution_count": 21,
   "metadata": {},
   "outputs": [],
   "source": [
    "#calculo da distância euclidiana de um ponto a todos os outros pontos\n",
    "distancia = np.zeros((n,n))\n",
    "xA = np.zeros(n)\n",
    "yA = np.zeros(n)"
   ]
  },
  {
   "cell_type": "code",
   "execution_count": 22,
   "metadata": {},
   "outputs": [],
   "source": [
    "#for i in range(0,n):\n",
    "#    a[i] = m.sqrt((x[i]-x[j])**2"
   ]
  },
  {
   "cell_type": "code",
   "execution_count": null,
   "metadata": {},
   "outputs": [],
   "source": []
  },
  {
   "cell_type": "code",
   "execution_count": null,
   "metadata": {},
   "outputs": [],
   "source": []
  },
  {
   "cell_type": "code",
   "execution_count": null,
   "metadata": {},
   "outputs": [],
   "source": []
  },
  {
   "cell_type": "code",
   "execution_count": null,
   "metadata": {},
   "outputs": [],
   "source": []
  },
  {
   "cell_type": "code",
   "execution_count": null,
   "metadata": {},
   "outputs": [],
   "source": []
  },
  {
   "cell_type": "code",
   "execution_count": null,
   "metadata": {},
   "outputs": [],
   "source": []
  },
  {
   "cell_type": "code",
   "execution_count": null,
   "metadata": {},
   "outputs": [],
   "source": []
  },
  {
   "cell_type": "code",
   "execution_count": null,
   "metadata": {},
   "outputs": [],
   "source": []
  },
  {
   "cell_type": "code",
   "execution_count": null,
   "metadata": {},
   "outputs": [],
   "source": []
  },
  {
   "cell_type": "code",
   "execution_count": null,
   "metadata": {},
   "outputs": [],
   "source": []
  },
  {
   "cell_type": "code",
   "execution_count": null,
   "metadata": {},
   "outputs": [],
   "source": []
  },
  {
   "cell_type": "code",
   "execution_count": null,
   "metadata": {},
   "outputs": [],
   "source": []
  },
  {
   "cell_type": "code",
   "execution_count": null,
   "metadata": {},
   "outputs": [],
   "source": []
  },
  {
   "cell_type": "code",
   "execution_count": 40,
   "metadata": {},
   "outputs": [],
   "source": [
    "import mlrose\n",
    "import numpy as np"
   ]
  },
  {
   "cell_type": "code",
   "execution_count": 41,
   "metadata": {},
   "outputs": [],
   "source": [
    "X = df['X']"
   ]
  },
  {
   "cell_type": "code",
   "execution_count": 42,
   "metadata": {},
   "outputs": [],
   "source": [
    "Y = df['Y']"
   ]
  },
  {
   "cell_type": "code",
   "execution_count": 43,
   "metadata": {},
   "outputs": [
    {
     "data": {
      "text/plain": [
       "0     1\n",
       "1     4\n",
       "2     7\n",
       "3     5\n",
       "4     9\n",
       "5     2\n",
       "6     4\n",
       "7     6\n",
       "8     1\n",
       "9     5\n",
       "10    3\n",
       "11    9\n",
       "12    4\n",
       "13    6\n",
       "14    7\n",
       "Name: X, dtype: int64"
      ]
     },
     "execution_count": 43,
     "metadata": {},
     "output_type": "execute_result"
    }
   ],
   "source": [
    "X"
   ]
  },
  {
   "cell_type": "code",
   "execution_count": 44,
   "metadata": {},
   "outputs": [
    {
     "data": {
      "text/plain": [
       "0     5\n",
       "1     6\n",
       "2     5\n",
       "3     4\n",
       "4     4\n",
       "5     3\n",
       "6     2\n",
       "7     2\n",
       "8     1\n",
       "9     1\n",
       "10    0\n",
       "11    0\n",
       "12    8\n",
       "13    7\n",
       "14    2\n",
       "Name: Y, dtype: int64"
      ]
     },
     "execution_count": 44,
     "metadata": {},
     "output_type": "execute_result"
    }
   ],
   "source": [
    "Y"
   ]
  },
  {
   "cell_type": "code",
   "execution_count": 45,
   "metadata": {},
   "outputs": [],
   "source": [
    "#You can use np.c_\n",
    "nparray = np.c_[([1,4,7,5,9,2,4,6,1,5,3,9,4,6,7]), ([5,6,5,4,4,3,2,2,1,1,3,9,8,7,2])]"
   ]
  },
  {
   "cell_type": "code",
   "execution_count": 46,
   "metadata": {},
   "outputs": [],
   "source": [
    "coords_list = nparray"
   ]
  },
  {
   "cell_type": "code",
   "execution_count": 47,
   "metadata": {},
   "outputs": [
    {
     "data": {
      "text/plain": [
       "array([[1, 5],\n",
       "       [4, 6],\n",
       "       [7, 5],\n",
       "       [5, 4],\n",
       "       [9, 4],\n",
       "       [2, 3],\n",
       "       [4, 2],\n",
       "       [6, 2],\n",
       "       [1, 1],\n",
       "       [5, 1],\n",
       "       [3, 3],\n",
       "       [9, 9],\n",
       "       [4, 8],\n",
       "       [6, 7],\n",
       "       [7, 2]])"
      ]
     },
     "execution_count": 47,
     "metadata": {},
     "output_type": "execute_result"
    }
   ],
   "source": [
    "#criação de uma matriz de coordenadas das cidades\n",
    "coords_list"
   ]
  },
  {
   "cell_type": "code",
   "execution_count": 48,
   "metadata": {},
   "outputs": [],
   "source": [
    "# Criando uma lista de coordenadas, passagem manual, passando de 2 em 2\n",
    "# Cada par de coordenadas inseridas em uma lista ordenada de pares onde os pares i especificam as coordenadas da cidade i)\n",
    "listaCoordenadas = [(1, 5), (4, 6), (7, 5), (5, 4), (9, 4), (2, 3), (4, 2), (6, 2), (1,1), (5,1), (3,3), (9,9), (4,8), (6,7)]"
   ]
  },
  {
   "cell_type": "code",
   "execution_count": 49,
   "metadata": {},
   "outputs": [
    {
     "data": {
      "text/plain": [
       "[(1, 5),\n",
       " (4, 6),\n",
       " (7, 5),\n",
       " (5, 4),\n",
       " (9, 4),\n",
       " (2, 3),\n",
       " (4, 2),\n",
       " (6, 2),\n",
       " (1, 1),\n",
       " (5, 1),\n",
       " (3, 3),\n",
       " (9, 9),\n",
       " (4, 8),\n",
       " (6, 7)]"
      ]
     },
     "execution_count": 49,
     "metadata": {},
     "output_type": "execute_result"
    }
   ],
   "source": [
    "listaCoordenadas"
   ]
  },
  {
   "cell_type": "code",
   "execution_count": 92,
   "metadata": {},
   "outputs": [],
   "source": [
    "# Initialize fitness function object using coords_list\n",
    "# Objeto usado na chamada da função de calculo de coordenadas\n",
    "fitness_coordenadas = mlrose.TravellingSales(coords = listaCoordenadas)"
   ]
  },
  {
   "cell_type": "code",
   "execution_count": 93,
   "metadata": {},
   "outputs": [],
   "source": [
    "coords_list = [(1, 5), (4, 6), (7, 5), (5, 4), (9, 4), (2, 3), (4, 2), (6, 2), (1,1), (5,1), (3,3), (9,9), (4,8), (6,7)]\n",
    "\n",
    "# Initialize fitness function object using coords_list\n",
    "fitness_coords = mlrose.TravellingSales(coords = coords_list)"
   ]
  },
  {
   "cell_type": "code",
   "execution_count": 94,
   "metadata": {},
   "outputs": [],
   "source": [
    "problem_fit = mlrose.TSPOpt(length = 14, fitness_fn = fitness_coords,maximize=False)"
   ]
  },
  {
   "cell_type": "code",
   "execution_count": null,
   "metadata": {},
   "outputs": [],
   "source": []
  },
  {
   "cell_type": "code",
   "execution_count": 95,
   "metadata": {},
   "outputs": [],
   "source": [
    "coords_list = [(1, 5), (4, 6), (7, 5), (5, 4), (9, 4), (2, 3), (4, 2), (6, 2), (1,1), (5,1), (3,3), (9,9), (4,8), (6,7)]\n",
    "problem_no_fit = mlrose.TSPOpt(length = 8, coords = coords_list,\n",
    "                               maximize=False)"
   ]
  },
  {
   "cell_type": "code",
   "execution_count": null,
   "metadata": {},
   "outputs": [],
   "source": []
  },
  {
   "cell_type": "code",
   "execution_count": 96,
   "metadata": {},
   "outputs": [],
   "source": [
    "best_state, best_fitness = mlrose.genetic_alg(problem_fit, random_state = 2)"
   ]
  },
  {
   "cell_type": "code",
   "execution_count": null,
   "metadata": {},
   "outputs": [],
   "source": []
  },
  {
   "cell_type": "code",
   "execution_count": 97,
   "metadata": {},
   "outputs": [
    {
     "name": "stdout",
     "output_type": "stream",
     "text": [
      "The best state found is:  [12  4 11  6  8  5  0 10  9  7  3  2 13  1]\n",
      "The fitness at the best state is:  45.65520284150806\n"
     ]
    }
   ],
   "source": [
    "\n",
    "print('The best state found is: ', best_state)\n",
    "\n",
    "print('The fitness at the best state is: ', best_fitness)"
   ]
  },
  {
   "cell_type": "code",
   "execution_count": 51,
   "metadata": {},
   "outputs": [],
   "source": [
    "#Confirmação de objeto usado para a proxima função de calculo de distancia para rotas"
   ]
  },
  {
   "cell_type": "code",
   "execution_count": 52,
   "metadata": {},
   "outputs": [
    {
     "data": {
      "text/plain": [
       "<mlrose.fitness.TravellingSales at 0x1d013e2d358>"
      ]
     },
     "execution_count": 52,
     "metadata": {},
     "output_type": "execute_result"
    }
   ],
   "source": [
    "fitness_coordenadas"
   ]
  },
  {
   "cell_type": "markdown",
   "metadata": {},
   "source": [
    "queremos resolver um problema de minimização de comprimento 8. Se usarmos a fitness_coordsfunção de aptidão definida acima, podemos definir um objeto de problema de otimização da seguinte maneira:\n",
    "como maximize é falso, então queremos a menor rota possivel."
   ]
  },
  {
   "cell_type": "code",
   "execution_count": 84,
   "metadata": {},
   "outputs": [],
   "source": [
    "problema_fitness_coordenadas = mlrose.TSPOpt(length = 8, fitness_fn = fitness_coordenadas,maximize=False)"
   ]
  },
  {
   "cell_type": "code",
   "execution_count": 85,
   "metadata": {},
   "outputs": [
    {
     "data": {
      "text/plain": [
       "<mlrose.opt_probs.TSPOpt at 0x1d013e2d780>"
      ]
     },
     "execution_count": 85,
     "metadata": {},
     "output_type": "execute_result"
    }
   ],
   "source": [
    "#Confirmação de objeto usado ao qual será definido o problema\n",
    "# Define o problema de otimização\n",
    "problema_fitness_coordenadas"
   ]
  },
  {
   "cell_type": "code",
   "execution_count": 86,
   "metadata": {},
   "outputs": [
    {
     "ename": "AttributeError",
     "evalue": "'list' object has no attribute 'reset'",
     "output_type": "error",
     "traceback": [
      "\u001b[1;31m---------------------------------------------------------------------------\u001b[0m",
      "\u001b[1;31mAttributeError\u001b[0m                            Traceback (most recent call last)",
      "\u001b[1;32m<ipython-input-86-8002b9ff5322>\u001b[0m in \u001b[0;36m<module>\u001b[1;34m()\u001b[0m\n\u001b[0;32m      1\u001b[0m \u001b[1;31m# Solve problem using the genetic algorithm\u001b[0m\u001b[1;33m\u001b[0m\u001b[1;33m\u001b[0m\u001b[0m\n\u001b[1;32m----> 2\u001b[1;33m \u001b[0mbest_state\u001b[0m\u001b[1;33m,\u001b[0m \u001b[0mbest_fitness\u001b[0m \u001b[1;33m=\u001b[0m \u001b[0mmlrose\u001b[0m\u001b[1;33m.\u001b[0m\u001b[0mgenetic_alg\u001b[0m\u001b[1;33m(\u001b[0m\u001b[0mlistaCoordenadas\u001b[0m\u001b[1;33m,\u001b[0m \u001b[0mrandom_state\u001b[0m \u001b[1;33m=\u001b[0m \u001b[1;36m2\u001b[0m\u001b[1;33m)\u001b[0m\u001b[1;33m\u001b[0m\u001b[0m\n\u001b[0m",
      "\u001b[1;32m~\\Anaconda3\\lib\\site-packages\\mlrose\\algorithms.py\u001b[0m in \u001b[0;36mgenetic_alg\u001b[1;34m(problem, pop_size, mutation_prob, max_attempts, max_iters, curve, random_state)\u001b[0m\n\u001b[0;32m    404\u001b[0m \u001b[1;33m\u001b[0m\u001b[0m\n\u001b[0;32m    405\u001b[0m     \u001b[1;31m# Initialize problem, population and attempts counter\u001b[0m\u001b[1;33m\u001b[0m\u001b[1;33m\u001b[0m\u001b[0m\n\u001b[1;32m--> 406\u001b[1;33m     \u001b[0mproblem\u001b[0m\u001b[1;33m.\u001b[0m\u001b[0mreset\u001b[0m\u001b[1;33m(\u001b[0m\u001b[1;33m)\u001b[0m\u001b[1;33m\u001b[0m\u001b[0m\n\u001b[0m\u001b[0;32m    407\u001b[0m     \u001b[0mproblem\u001b[0m\u001b[1;33m.\u001b[0m\u001b[0mrandom_pop\u001b[0m\u001b[1;33m(\u001b[0m\u001b[0mpop_size\u001b[0m\u001b[1;33m)\u001b[0m\u001b[1;33m\u001b[0m\u001b[0m\n\u001b[0;32m    408\u001b[0m     \u001b[0mattempts\u001b[0m \u001b[1;33m=\u001b[0m \u001b[1;36m0\u001b[0m\u001b[1;33m\u001b[0m\u001b[0m\n",
      "\u001b[1;31mAttributeError\u001b[0m: 'list' object has no attribute 'reset'"
     ]
    }
   ],
   "source": [
    "# Solve problem using the genetic algorithm\n",
    "best_state, best_fitness = mlrose.genetic_alg(listaCoordenadas, random_state = 2)"
   ]
  },
  {
   "cell_type": "code",
   "execution_count": null,
   "metadata": {},
   "outputs": [],
   "source": []
  },
  {
   "cell_type": "code",
   "execution_count": null,
   "metadata": {},
   "outputs": [],
   "source": []
  },
  {
   "cell_type": "code",
   "execution_count": null,
   "metadata": {},
   "outputs": [],
   "source": []
  },
  {
   "cell_type": "code",
   "execution_count": null,
   "metadata": {},
   "outputs": [],
   "source": []
  },
  {
   "cell_type": "code",
   "execution_count": null,
   "metadata": {},
   "outputs": [],
   "source": []
  },
  {
   "cell_type": "code",
   "execution_count": 56,
   "metadata": {},
   "outputs": [],
   "source": [
    "import mlrose\n",
    "import numpy as np"
   ]
  },
  {
   "cell_type": "code",
   "execution_count": 74,
   "metadata": {},
   "outputs": [],
   "source": [
    "# Create list of city coordinates\n",
    "coords_list = [(1, 1), (4, 2), (5, 2), (6, 4), (4, 4), (3, 6), (1, 5), (2, 3)]\n",
    "\n",
    "# Initialize fitness function object using coords_list\n",
    "fitness_coords = mlrose.TravellingSales(coords = coords_list)"
   ]
  },
  {
   "cell_type": "code",
   "execution_count": 75,
   "metadata": {},
   "outputs": [
    {
     "data": {
      "text/plain": [
       "[(1, 1), (4, 2), (5, 2), (6, 4), (4, 4), (3, 6), (1, 5), (2, 3)]"
      ]
     },
     "execution_count": 75,
     "metadata": {},
     "output_type": "execute_result"
    }
   ],
   "source": [
    "coords_list"
   ]
  },
  {
   "cell_type": "code",
   "execution_count": 76,
   "metadata": {},
   "outputs": [],
   "source": [
    "# Create list of distances between pairs of cities\n",
    "#dist_list = [(0, 1, 3.1623), (0, 2, 4.1231), (0, 3, 5.8310), (0, 4, 4.2426), \\\n",
    "#             (0, 5, 5.3852), (0, 6, 4.0000), (0, 7, 2.2361), (1, 2, 1.0000), \\\n",
    "#             (1, 3, 2.8284), (1, 4, 2.0000), (1, 5, 4.1231), (1, 6, 4.2426), \\\n",
    "#             (1, 7, 2.2361), (2, 3, 2.2361), (2, 4, 2.2361), (2, 5, 4.4721), \\\n",
    "#             (2, 6, 5.0000), (2, 7, 3.1623), (3, 4, 2.0000), (3, 5, 3.6056), \\\n",
    "#             (3, 6, 5.0990), (3, 7, 4.1231), (4, 5, 2.2361), (4, 6, 3.1623), \\\n",
    "#             (4, 7, 2.2361), (5, 6, 2.2361), (5, 7, 3.1623), (6, 7, 2.2361)]"
   ]
  },
  {
   "cell_type": "code",
   "execution_count": 77,
   "metadata": {},
   "outputs": [],
   "source": [
    "# Initialize fitness function object using dist_list\n",
    "#fitness_dists = mlrose.TravellingSales(distances = dist_list)"
   ]
  },
  {
   "cell_type": "code",
   "execution_count": 81,
   "metadata": {},
   "outputs": [],
   "source": [
    "problem_fit = mlrose.TSPOpt(length = 8, fitness_fn = fitness_coords,maximize=False)"
   ]
  },
  {
   "cell_type": "code",
   "execution_count": 82,
   "metadata": {},
   "outputs": [],
   "source": [
    "coords_list = [(1, 1), (4, 2), (5, 2), (6, 4), (4, 4), (3, 6), \n",
    "               (1, 5), (2, 3)]\n",
    "problem_no_fit = mlrose.TSPOpt(length = 8, coords = coords_list,\n",
    "                               maximize=False)"
   ]
  },
  {
   "cell_type": "code",
   "execution_count": 83,
   "metadata": {},
   "outputs": [
    {
     "name": "stdout",
     "output_type": "stream",
     "text": [
      "The best state found is:  [1 3 4 5 6 7 0 2]\n",
      "The fitness at the best state is:  18.89580466036301\n"
     ]
    }
   ],
   "source": [
    "# Solve problem using the genetic algorithm\n",
    "best_state, best_fitness = mlrose.genetic_alg(problem_fit, random_state = 2)\n",
    "\n",
    "print('The best state found is: ', best_state)\n",
    "\n",
    "print('The fitness at the best state is: ', best_fitness)"
   ]
  },
  {
   "cell_type": "code",
   "execution_count": null,
   "metadata": {},
   "outputs": [],
   "source": [
    "print('The best state found is:  [1 3 4 5 6 7 0 2]')\n",
    "print('The fitness at the best state is:  18.8958046604')"
   ]
  },
  {
   "cell_type": "code",
   "execution_count": null,
   "metadata": {},
   "outputs": [],
   "source": [
    "# Solve problem using the genetic algorithm\n",
    "best_state, best_fitness = mlrose.genetic_alg(problem_fit, mutation_prob = 0.2, \n",
    "\t\t\t\t\t      max_attempts = 100, random_state = 2)\n",
    "\n",
    "print('The best state found is: ', best_state)\n",
    "\n",
    "print('The fitness at the best state is: ', best_fitness)"
   ]
  },
  {
   "cell_type": "code",
   "execution_count": null,
   "metadata": {},
   "outputs": [],
   "source": [
    "# The best state found is:  [7 6 5 4 3 2 1 0]\n",
    "# The fitness at the best state is:  17.3426175477"
   ]
  },
  {
   "cell_type": "code",
   "execution_count": null,
   "metadata": {},
   "outputs": [],
   "source": []
  }
 ],
 "metadata": {
  "kernelspec": {
   "display_name": "Python 3",
   "language": "python",
   "name": "python3"
  },
  "language_info": {
   "codemirror_mode": {
    "name": "ipython",
    "version": 3
   },
   "file_extension": ".py",
   "mimetype": "text/x-python",
   "name": "python",
   "nbconvert_exporter": "python",
   "pygments_lexer": "ipython3",
   "version": "3.6.5"
  }
 },
 "nbformat": 4,
 "nbformat_minor": 2
}
